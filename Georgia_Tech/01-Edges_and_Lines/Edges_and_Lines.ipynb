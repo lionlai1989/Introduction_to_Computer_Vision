{
 "cells": [
  {
   "attachments": {},
   "cell_type": "markdown",
   "metadata": {},
   "source": [
    "# Edges and Lines"
   ]
  },
  {
   "attachments": {},
   "cell_type": "markdown",
   "metadata": {},
   "source": [
    "## Description\n",
    "This problem set is your first “vision” project where you compute an “answer” – that is some structural\n",
    "or semantic description as to what is in an image. You’ll find edges and objects. And you’ll learn that\n",
    "some methods work well for carefully controlled situations and hardly at all when you relax those\n",
    "constraints.\n",
    "\n",
    "**RULES:** You may use the Matlab (or other image processing library) to find the edges, such as the Canny\n",
    "or other operators. Don’t forget that those have a variety of parameters and you may need to\n",
    "experiment with them. **BUT: YOU MAY NOT USE ANY HOUGH TOOLS.** For example, you need to write\n",
    "your own accumulator array data structures and code for voting and peak finding."
   ]
  },
  {
   "cell_type": "code",
   "execution_count": 1,
   "metadata": {},
   "outputs": [],
   "source": [
    "import numpy\n"
   ]
  },
  {
   "cell_type": "code",
   "execution_count": null,
   "metadata": {},
   "outputs": [],
   "source": []
  },
  {
   "cell_type": "code",
   "execution_count": null,
   "metadata": {},
   "outputs": [],
   "source": []
  },
  {
   "cell_type": "code",
   "execution_count": null,
   "metadata": {},
   "outputs": [],
   "source": []
  }
 ],
 "metadata": {
  "kernelspec": {
   "display_name": "venv_Introduction_to_Computer_Vision",
   "language": "python",
   "name": "python3"
  },
  "language_info": {
   "codemirror_mode": {
    "name": "ipython",
    "version": 3
   },
   "file_extension": ".py",
   "mimetype": "text/x-python",
   "name": "python",
   "nbconvert_exporter": "python",
   "pygments_lexer": "ipython3",
   "version": "3.10.10"
  },
  "orig_nbformat": 4
 },
 "nbformat": 4,
 "nbformat_minor": 2
}
